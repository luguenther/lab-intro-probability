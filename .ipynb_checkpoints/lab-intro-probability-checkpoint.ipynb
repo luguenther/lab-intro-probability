{
 "cells": [
  {
   "cell_type": "markdown",
   "metadata": {},
   "source": [
    "# Lab | Intro to Probability"
   ]
  },
  {
   "cell_type": "markdown",
   "metadata": {},
   "source": [
    "**Objective**\n",
    "\n",
    "Welcome to this Intro to Probability lab, where we explore decision-making scenarios through the lens of probability and strategic analysis. In the business world, making informed decisions is crucial, especially when faced with uncertainties. This lab focuses on scenarios where probabilistic outcomes play a significant role in shaping strategies and outcomes. Students will engage in exercises that require assessing and choosing optimal paths based on data-driven insights. The goal is to enhance your skills by applying probability concepts to solve real-world problems."
   ]
  },
  {
   "cell_type": "markdown",
   "metadata": {},
   "source": [
    "**Challenge 1**"
   ]
  },
  {
   "cell_type": "markdown",
   "metadata": {},
   "source": [
    "#### Ironhack Airlines \n",
    "\n",
    "Often Airlines sell more tickets than they have seats available, this is called overbooking. Consider the following:\n",
    "- A plane has 450 seats. \n",
    "- Based on historical data we conclude that each individual passenger has a 3% chance of missing it's flight. \n",
    "\n",
    "If the Ironhack Airlines routinely sells 460 tickets, what is the chance that they have a seats for all passenger?"
   ]
  },
  {
   "cell_type": "code",
   "execution_count": 1,
   "metadata": {},
   "outputs": [
    {
     "name": "stdout",
     "output_type": "stream",
     "text": [
      "Probability that all passengers have a seat: 0.8845\n"
     ]
    }
   ],
   "source": [
    "from scipy.stats import binom\n",
    "\n",
    "# Given data\n",
    "total_tickets_sold = 460\n",
    "total_seats = 450\n",
    "p_show = 0.97  # Probability that a passenger shows up\n",
    "\n",
    "# Compute the probability that 450 or fewer passengers show up\n",
    "probability_seats_available = binom.cdf(total_seats, total_tickets_sold, p_show)\n",
    "\n",
    "print(f\"Probability that all passengers have a seat: {probability_seats_available:.4f}\")\n"
   ]
  },
  {
   "cell_type": "markdown",
   "metadata": {},
   "source": [
    "**Challenge 2**"
   ]
  },
  {
   "cell_type": "markdown",
   "metadata": {},
   "source": [
    "#### Ironhack Call Center "
   ]
  },
  {
   "cell_type": "markdown",
   "metadata": {},
   "source": [
    "Suppose a customer service representative at a call center is handling customer complaints. Consider the following:\n",
    "- The probability of successfully resolving a customer complaint on the first attempt is 0.3. \n",
    "\n",
    "\n",
    "What is the probability that the representative needs to make at least three attempts before successfully resolving a customer complaint?"
   ]
  },
  {
   "cell_type": "code",
   "execution_count": 6,
   "metadata": {},
   "outputs": [
    {
     "name": "stdout",
     "output_type": "stream",
     "text": [
      "Probability of needing at least 3 attempts: 0.4900\n"
     ]
    }
   ],
   "source": [
    "from scipy.stats import geom\n",
    "\n",
    "# Given probability of success\n",
    "p_success = 0.3\n",
    "\n",
    "# Compute probability of needing at least 3 attempts\n",
    "p_at_least_3 = 1 - geom.cdf(2, p_success)\n",
    "\n",
    "print(f\"Probability of needing at least 3 attempts: {p_at_least_3:.4f}\")\n"
   ]
  },
  {
   "cell_type": "markdown",
   "metadata": {},
   "source": [
    "**Challenge 3**"
   ]
  },
  {
   "cell_type": "markdown",
   "metadata": {},
   "source": [
    "#### Ironhack Website"
   ]
  },
  {
   "cell_type": "markdown",
   "metadata": {},
   "source": [
    "Consider a scenario related to Ironhack website traffic. Where:\n",
    "- our website takes on average 500 visits per hour.\n",
    "- the website's server is designed to handle up to 550 vists per hour.\n",
    "\n",
    "\n",
    "What is the probability of the website server being overwhelmed?"
   ]
  },
  {
   "cell_type": "code",
   "execution_count": 7,
   "metadata": {},
   "outputs": [
    {
     "name": "stdout",
     "output_type": "stream",
     "text": [
      "Probability of the website server being overwhelmed: 0.0129\n"
     ]
    }
   ],
   "source": [
    "from scipy.stats import poisson\n",
    "\n",
    "# Given data\n",
    "lambda_visits = 500  # Average visits per hour\n",
    "server_capacity = 550  # Maximum visits the server can handle\n",
    "\n",
    "# Compute probability that visits exceed 550\n",
    "prob_overwhelmed = 1 - poisson.cdf(server_capacity, lambda_visits)\n",
    "\n",
    "print(f\"Probability of the website server being overwhelmed: {prob_overwhelmed:.4f}\")\n"
   ]
  },
  {
   "cell_type": "markdown",
   "metadata": {},
   "source": [
    "What is the probability of being overwhelmed at some point during a day? (consider 24hours)"
   ]
  },
  {
   "cell_type": "code",
   "execution_count": 8,
   "metadata": {},
   "outputs": [
    {
     "name": "stdout",
     "output_type": "stream",
     "text": [
      "Probability of the website being overwhelmed at least once in 24 hours: 0.2677\n"
     ]
    }
   ],
   "source": [
    "from scipy.stats import poisson\n",
    "\n",
    "# Given data\n",
    "lambda_visits = 500  # Average visits per hour\n",
    "server_capacity = 550  # Maximum visits the server can handle\n",
    "hours_in_day = 24  # 24-hour period\n",
    "\n",
    "# Compute probability that visits exceed 550 in one hour\n",
    "prob_overwhelmed_1h = 1 - poisson.cdf(server_capacity, lambda_visits)\n",
    "\n",
    "# Compute probability of being overwhelmed at least once in 24 hours\n",
    "prob_overwhelmed_24h = 1 - (1 - prob_overwhelmed_1h) ** hours_in_day\n",
    "\n",
    "print(f\"Probability of the website being overwhelmed at least once in 24 hours: {prob_overwhelmed_24h:.4f}\")\n"
   ]
  },
  {
   "cell_type": "markdown",
   "metadata": {},
   "source": [
    "**Challenge 4**"
   ]
  },
  {
   "cell_type": "markdown",
   "metadata": {},
   "source": [
    "#### Ironhack Helpdesk"
   ]
  },
  {
   "cell_type": "markdown",
   "metadata": {},
   "source": [
    "Consider a scenario related to the time between arrivals of customers at a service desk.\n",
    "\n",
    "On average, a customers arrives every 10minutes.\n",
    "\n",
    "What is the probability that the next customer will arrive within the next 5 minutes?"
   ]
  },
  {
   "cell_type": "code",
   "execution_count": 9,
   "metadata": {},
   "outputs": [
    {
     "name": "stdout",
     "output_type": "stream",
     "text": [
      "Probability that the next customer arrives within 5 minutes: 0.3935\n"
     ]
    }
   ],
   "source": [
    "from scipy.stats import expon\n",
    "\n",
    "# Given data\n",
    "mean_arrival_time = 10  # Average time between arrivals (minutes)\n",
    "t = 5  # Time within which we want the next customer to arrive\n",
    "\n",
    "# Compute probability using Exponential CDF\n",
    "prob_arrival_within_5min = expon.cdf(t, scale=mean_arrival_time)\n",
    "\n",
    "print(f\"Probability that the next customer arrives within 5 minutes: {prob_arrival_within_5min:.4f}\")\n"
   ]
  },
  {
   "cell_type": "markdown",
   "metadata": {},
   "source": [
    "If there is no customer for 15minutes, employees can that a 5minutes break.\n",
    "\n",
    "What is the probability an employee taking a break?"
   ]
  },
  {
   "cell_type": "code",
   "execution_count": 10,
   "metadata": {},
   "outputs": [
    {
     "name": "stdout",
     "output_type": "stream",
     "text": [
      "Probability that an employee can take a 5-minute break: 0.2231\n"
     ]
    }
   ],
   "source": [
    "from scipy.stats import expon\n",
    "\n",
    "# Given data\n",
    "mean_arrival_time = 10  # Average time between arrivals (minutes)\n",
    "t = 15  # Time threshold for taking a break\n",
    "\n",
    "# Compute probability of no arrival within 15 minutes\n",
    "prob_no_customer_15min = 1 - expon.cdf(t, scale=mean_arrival_time)\n",
    "\n",
    "print(f\"Probability that an employee can take a 5-minute break: {prob_no_customer_15min:.4f}\")"
   ]
  },
  {
   "cell_type": "markdown",
   "metadata": {},
   "source": [
    "**Challenge 5**"
   ]
  },
  {
   "cell_type": "markdown",
   "metadata": {},
   "source": [
    "The weights of a certain species of birds follow a normal distribution with a mean weight of 150 grams and a standard deviation of 10 grams. \n",
    "\n",
    "- If we randomly select a bird, what is the probability that its weight is between 140 and 160 grams?"
   ]
  },
  {
   "cell_type": "code",
   "execution_count": 11,
   "metadata": {},
   "outputs": [
    {
     "name": "stdout",
     "output_type": "stream",
     "text": [
      "Probability that a randomly selected bird weighs between 140 and 160 grams: 0.6827\n"
     ]
    }
   ],
   "source": [
    "from scipy.stats import norm\n",
    "\n",
    "# Given data\n",
    "mu = 150  # Mean weight\n",
    "sigma = 10  # Standard deviation\n",
    "x1, x2 = 140, 160  # Weight range\n",
    "\n",
    "# Compute probabilities\n",
    "prob_140 = norm.cdf(x1, mu, sigma)\n",
    "prob_160 = norm.cdf(x2, mu, sigma)\n",
    "\n",
    "# Compute probability that weight is between 140 and 160 grams\n",
    "prob_between = prob_160 - prob_140\n",
    "\n",
    "print(f\"Probability that a randomly selected bird weighs between 140 and 160 grams: {prob_between:.4f}\")"
   ]
  },
  {
   "cell_type": "markdown",
   "metadata": {},
   "source": [
    "**Challenge 6**"
   ]
  },
  {
   "cell_type": "markdown",
   "metadata": {},
   "source": [
    "If the lifetime (in hours) of a certain electronic component follows an exponential distribution with a mean lifetime of 50 hours, what is the probability that the component fails within the first 30 hours?"
   ]
  },
  {
   "cell_type": "code",
   "execution_count": 12,
   "metadata": {},
   "outputs": [
    {
     "name": "stdout",
     "output_type": "stream",
     "text": [
      "Probability that the component fails within the first 30 hours: 0.4512\n"
     ]
    }
   ],
   "source": [
    "from scipy.stats import expon\n",
    "\n",
    "# Given data\n",
    "mean_lifetime = 50  # Mean lifetime in hours\n",
    "t = 30  # Time threshold\n",
    "\n",
    "# Compute probability of failure within 30 hours\n",
    "prob_failure_30h = expon.cdf(t, scale=mean_lifetime)\n",
    "\n",
    "print(f\"Probability that the component fails within the first 30 hours: {prob_failure_30h:.4f}\")"
   ]
  }
 ],
 "metadata": {
  "kernelspec": {
   "display_name": "Python 3 (ipykernel)",
   "language": "python",
   "name": "python3"
  },
  "language_info": {
   "codemirror_mode": {
    "name": "ipython",
    "version": 3
   },
   "file_extension": ".py",
   "mimetype": "text/x-python",
   "name": "python",
   "nbconvert_exporter": "python",
   "pygments_lexer": "ipython3",
   "version": "3.12.2"
  }
 },
 "nbformat": 4,
 "nbformat_minor": 4
}
